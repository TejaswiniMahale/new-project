{
  "nbformat": 4,
  "nbformat_minor": 0,
  "metadata": {
    "colab": {
      "name": "project.ipynb",
      "provenance": [],
      "authorship_tag": "ABX9TyOTcUCvLE8fjE6IzLBI2Gx2",
      "include_colab_link": true
    },
    "kernelspec": {
      "name": "python3",
      "display_name": "Python 3"
    },
    "language_info": {
      "name": "python"
    }
  },
  "cells": [
    {
      "cell_type": "markdown",
      "metadata": {
        "id": "view-in-github",
        "colab_type": "text"
      },
      "source": [
        "<a href=\"https://colab.research.google.com/github/TejaswiniMahale/new-project/blob/main/project.ipynb\" target=\"_parent\"><img src=\"https://colab.research.google.com/assets/colab-badge.svg\" alt=\"Open In Colab\"/></a>"
      ]
    },
    {
      "cell_type": "code",
      "metadata": {
        "colab": {
          "base_uri": "https://localhost:8080/"
        },
        "id": "t0PyJ789k0Q2",
        "outputId": "2e55aa57-e73c-486d-c8c6-e56c22dae51b"
      },
      "source": [
        "celsius=int(input(\"Enter the temprature in celsius:\"))\n",
        "fahrenhit=(celsius*9/5)+32\n",
        "print(celsius, \" Celsius is :\")\n",
        "print(fahrenhit,\" Fahrenhit\")"
      ],
      "execution_count": 5,
      "outputs": [
        {
          "output_type": "stream",
          "text": [
            "Enter the temprature in celsius:10\n",
            "10  Celsius is :\n",
            "50.0  Fahrenhit\n"
          ],
          "name": "stdout"
        }
      ]
    }
  ]
}